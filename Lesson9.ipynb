{
 "cells": [
  {
   "cell_type": "code",
   "execution_count": 1,
   "id": "49f737b3",
   "metadata": {},
   "outputs": [],
   "source": [
    "import pandas as pd\n",
    "import numpy as np\n",
    "import matplotlib.pyplot as plt\n",
    "from scipy.stats import mannwhitneyu\n",
    "from scipy.stats import ttest_ind\n",
    "from scipy.stats import kstest\n",
    "\n",
    "import warnings\n",
    "warnings.simplefilter(\"ignore\")"
   ]
  },
  {
   "cell_type": "code",
   "execution_count": null,
   "id": "d9f5c55e",
   "metadata": {},
   "outputs": [],
   "source": [
    "df = pd.read_excel('resultsА_B.xlsx')\n",
    "df.head(10)"
   ]
  },
  {
   "cell_type": "code",
   "execution_count": null,
   "id": "bfe9dce0",
   "metadata": {},
   "outputs": [],
   "source": [
    "df.info()"
   ]
  },
  {
   "cell_type": "code",
   "execution_count": null,
   "id": "1d9b5c26",
   "metadata": {},
   "outputs": [],
   "source": [
    "df.describe()"
   ]
  },
  {
   "cell_type": "code",
   "execution_count": null,
   "id": "6ebfb81d",
   "metadata": {},
   "outputs": [],
   "source": [
    "df.isna().sum()"
   ]
  },
  {
   "cell_type": "code",
   "execution_count": null,
   "id": "01ac8c92",
   "metadata": {},
   "outputs": [],
   "source": [
    "df.version.unique()"
   ]
  },
  {
   "cell_type": "code",
   "execution_count": null,
   "id": "7b8bc084",
   "metadata": {},
   "outputs": [],
   "source": [
    "df.version.value_counts()"
   ]
  },
  {
   "cell_type": "code",
   "execution_count": null,
   "id": "fbbd2617",
   "metadata": {},
   "outputs": [],
   "source": [
    "plt.figure(figsize=(15, 15))\n",
    "control_revenue_1 = df['sum_gamerounds'][(df['version'] == 'gate_30') & (df['retention_1'] == 1)]\n",
    "test_revenue_1 = df['sum_gamerounds'][(df['version'] == 'gate_40') & (df['retention_1'] == 1)]\n",
    "\n",
    "plt.hist(control_revenue_1, color='r', bins=50, alpha = 0.5)\n",
    "plt.hist(test_revenue_1, bins=50, alpha = 0.5)\n",
    "\n",
    "plt.show()"
   ]
  },
  {
   "cell_type": "code",
   "execution_count": null,
   "id": "1e5b46bc",
   "metadata": {},
   "outputs": [],
   "source": [
    "plt.figure(figsize=(15, 15))\n",
    "control_revenue_7 = df['sum_gamerounds'][(df['version'] == 'gate_30') & (df['retention_7'] == 1)]\n",
    "test_revenue_7 = df['sum_gamerounds'][(df['version'] == 'gate_40') & (df['retention_7'] == 1)]\n",
    "\n",
    "plt.hist(control_revenue_7, color='r', bins=50, alpha = 0.5)\n",
    "plt.hist(test_revenue_7, bins=50, alpha = 0.5)\n",
    "\n",
    "plt.show()"
   ]
  },
  {
   "cell_type": "code",
   "execution_count": null,
   "id": "e46451eb",
   "metadata": {},
   "outputs": [],
   "source": [
    "mannwhitneyu(control_revenue_1, test_revenue_1)"
   ]
  },
  {
   "cell_type": "code",
   "execution_count": null,
   "id": "c017eaee",
   "metadata": {},
   "outputs": [],
   "source": [
    "mannwhitneyu(control_revenue_7, test_revenue_7)"
   ]
  },
  {
   "cell_type": "code",
   "execution_count": null,
   "id": "4f6b1322",
   "metadata": {},
   "outputs": [],
   "source": [
    "ttest_ind(control_revenue_1, test_revenue_1, equal_var = False)"
   ]
  },
  {
   "cell_type": "code",
   "execution_count": null,
   "id": "7e49a534",
   "metadata": {},
   "outputs": [],
   "source": [
    "ttest_ind(control_revenue_7, test_revenue_7, equal_var = False)"
   ]
  },
  {
   "cell_type": "code",
   "execution_count": null,
   "id": "d9552ed0",
   "metadata": {},
   "outputs": [],
   "source": [
    "import numpy as np\n",
    "import pandas as pd\n",
    "from scipy.stats import *\n",
    "import matplotlib.pyplot as plt\n",
    "from tqdm.auto import tqdm #для красивой полоски\n",
    "\n",
    "plt.style.use('ggplot')\n",
    "\n",
    "def get_bootstrap(\n",
    "    data_column_1, # числовые значения первой выборки\n",
    "    data_column_2, # числовые значения второй выборки\n",
    "    boot_it = 1000, # количество бутстрэп-подвыборок\n",
    "    statistic = np.mean, # интересующая нас статистика\n",
    "    bootstrap_conf_level = 0.95 # уровень значимости\n",
    "):\n",
    "    boot_data = []\n",
    "    for i in tqdm(range(boot_it)): # извлекаем подвыборки\n",
    "        samples_1 = data_column_1.sample(\n",
    "            len(data_column_1), \n",
    "            replace = True # параметр возвращения\n",
    "        ).values\n",
    "        \n",
    "        samples_2 = data_column_2.sample(\n",
    "            len(data_column_1), \n",
    "            replace = True\n",
    "        ).values\n",
    "        \n",
    "        boot_data.append(statistic(samples_1)-statistic(samples_2)) # mean() - применяем статистику\n",
    "        \n",
    "    pd_boot_data = pd.DataFrame(boot_data)\n",
    "        \n",
    "    left_quant = (1 - bootstrap_conf_level)/2\n",
    "    right_quant = 1 - (1 - bootstrap_conf_level) / 2\n",
    "    quants = pd_boot_data.quantile([left_quant, right_quant])\n",
    "        \n",
    "    p_1 = norm.cdf(\n",
    "        x = 0, \n",
    "        loc = np.mean(boot_data), \n",
    "        scale = np.std(boot_data)\n",
    "    )\n",
    "    p_2 = norm.cdf(\n",
    "        x = 0, \n",
    "        loc = -np.mean(boot_data), \n",
    "        scale = np.std(boot_data)\n",
    "    )\n",
    "    p_value = min(p_1, p_2) * 2\n",
    "        \n",
    "    # Визуализация\n",
    "    _, _, bars = plt.hist(pd_boot_data[0], bins = 50)\n",
    "    for bar in bars:\n",
    "        if bar.get_x() <= quants.iloc[0][0] or bar.get_x() >= quants.iloc[1][0]:\n",
    "            bar.set_facecolor('red')\n",
    "        else: \n",
    "            bar.set_facecolor('grey')\n",
    "            bar.set_edgecolor('black')\n",
    "    \n",
    "    plt.style.use('ggplot')\n",
    "    plt.vlines(quants,ymin=0,ymax=50,linestyle='--')\n",
    "    plt.xlabel('boot_data')\n",
    "    plt.ylabel('frequency')\n",
    "    plt.title(\"Histogram of boot_data\")\n",
    "    plt.show()\n",
    "       \n",
    "    return {\"p_value\": p_value}"
   ]
  },
  {
   "cell_type": "code",
   "execution_count": null,
   "id": "5024f6b7",
   "metadata": {},
   "outputs": [],
   "source": [
    "get_bootstrap(control_revenue_1, test_revenue_1)"
   ]
  },
  {
   "cell_type": "code",
   "execution_count": null,
   "id": "b7d13bcb",
   "metadata": {},
   "outputs": [],
   "source": [
    "get_bootstrap(control_revenue_7, test_revenue_7)"
   ]
  },
  {
   "cell_type": "markdown",
   "id": "540cea3c",
   "metadata": {},
   "source": [
    "Принимая за нулевую гипотезу размещение ворот на 30м уровне, и т-тест, и тест Манна-Уитни, а также метод бутстрепа, дают нам понять, что перемещение ворот на 40й уровень не даёт статистически значимых отличий. Ниже проверим их графической реализацией бутстрепа с kaggle."
   ]
  },
  {
   "cell_type": "code",
   "execution_count": null,
   "id": "1135a26f",
   "metadata": {},
   "outputs": [],
   "source": [
    "boot_1d = []\n",
    "boot_7d = []\n",
    "for i in range(500):\n",
    "    boot_mean_1 = df.sample(frac=1, replace=True).groupby('version')['retention_1'].mean()\n",
    "    boot_mean_7 = df.sample(frac=1, replace=True).groupby('version')['retention_7'].mean()\n",
    "    boot_1d.append(boot_mean_1)\n",
    "    boot_7d.append(boot_mean_7)\n",
    "    \n",
    "boot_1d = pd.DataFrame(boot_1d)\n",
    "boot_7d = pd.DataFrame(boot_7d)\n",
    "\n",
    "fig, (ax1,ax2) = plt.subplots(1, 2, sharey=True, figsize=(13,5))\n",
    "\n",
    "boot_1d.plot.kde(ax=ax1)\n",
    "ax1.set_xlabel(\"retantion rate\",size=12)\n",
    "ax1.set_ylabel(\"number of sample\",size=12)\n",
    "ax1.set_title(\"1 day retention rate distribution\", fontweight=\"bold\",size=14)\n",
    "\n",
    "boot_7d.plot.kde(ax=ax2)\n",
    "ax2.set_xlabel(\"retantion rate\",size=12)\n",
    "ax2.set_title(\"7 days retention rate distribution\", fontweight=\"bold\",size=14)\n",
    "plt.show()"
   ]
  },
  {
   "cell_type": "markdown",
   "id": "274cd3b6",
   "metadata": {},
   "source": [
    "Распределение retention за один день и за семь дней выше для версии, когда ворота на 30м уровне, а значит тестовую гипотезу стоит отвергнуть."
   ]
  }
 ],
 "metadata": {
  "kernelspec": {
   "display_name": "Python 3 (ipykernel)",
   "language": "python",
   "name": "python3"
  },
  "language_info": {
   "codemirror_mode": {
    "name": "ipython",
    "version": 3
   },
   "file_extension": ".py",
   "mimetype": "text/x-python",
   "name": "python",
   "nbconvert_exporter": "python",
   "pygments_lexer": "ipython3",
   "version": "3.9.13"
  }
 },
 "nbformat": 4,
 "nbformat_minor": 5
}
